{
 "cells": [
  {
   "cell_type": "code",
   "execution_count": 1,
   "id": "f22823e3-2831-4f5b-8bd1-6d061b380175",
   "metadata": {},
   "outputs": [],
   "source": [
    "import ee\n",
    "import geemap"
   ]
  },
  {
   "cell_type": "code",
   "execution_count": 2,
   "id": "c4759466-f209-4d28-9d36-f56285f74004",
   "metadata": {},
   "outputs": [],
   "source": [
    "try:\n",
    "        ee.Initialize()\n",
    "except Exception as e:\n",
    "        ee.Authenticate()\n",
    "        ee.Initialize()\n"
   ]
  },
  {
   "cell_type": "markdown",
   "id": "fa5b0227-e5d9-4ad7-9926-06156ed9c2f2",
   "metadata": {},
   "source": [
    "## loading the Agra shapefile"
   ]
  },
  {
   "cell_type": "code",
   "execution_count": 3,
   "id": "51a0f590-bf04-4eff-9090-d53beb341db7",
   "metadata": {},
   "outputs": [
    {
     "data": {
      "application/vnd.jupyter.widget-view+json": {
       "model_id": "916182a76f2843b08c1cdfb466722a90",
       "version_major": 2,
       "version_minor": 0
      },
      "text/plain": [
       "Map(center=[20, 0], controls=(WidgetControl(options=['position', 'transparent_bg'], widget=HBox(children=(Togg…"
      ]
     },
     "metadata": {},
     "output_type": "display_data"
    }
   ],
   "source": [
    "agra = ee.FeatureCollection('FAO/GAUL/2015/level2')\\\n",
    "        .filter(ee.Filter.eq('ADM2_NAME', 'Agra')).geometry()\n",
    "Map= geemap.Map()\n",
    "Map.centerObject(agra)\n",
    "Map.addLayer(agra)\n",
    "Map"
   ]
  },
  {
   "cell_type": "markdown",
   "id": "0c9a8a8a-cb16-4260-b082-ae6bfeaf73e9",
   "metadata": {},
   "source": [
    "## loading and filtering sentinel image"
   ]
  },
  {
   "cell_type": "code",
   "execution_count": 24,
   "id": "f0d8aaa3-80bb-423c-9d2b-9349df476b1c",
   "metadata": {},
   "outputs": [],
   "source": [
    "## cloudmasking\n",
    "\n",
    "\n",
    "# define some functions and variables\n",
    "# def se2mask(image):\n",
    "#     quality_band = image.select('QA60')\n",
    "#     cloudmask = 1 << 10\n",
    "#     cirrusmask = 1 << 11\n",
    "#     mask = quality_band.bitwiseAnd(cloudmask).eq(0) and (quality_band.bitwiseAnd(cirrusmask).eq(0))\n",
    "#     return image.updateMask(mask).divide(10000)\n"
   ]
  },
  {
   "cell_type": "code",
   "execution_count": 4,
   "id": "61cb313f-e652-42fc-a494-49dc9f06c34f",
   "metadata": {},
   "outputs": [],
   "source": [
    "se2bands = ['B2', 'B3', 'B4', 'B5', 'B6', 'B7','B8','B8A']\n",
    "## loading and filtering image\n",
    "s2 = ee.ImageCollection('COPERNICUS/S2')\\\n",
    "        .filter(ee.Filter.date('2016-01-01', '2016-05-30'))\\\n",
    "        .filter(ee.Filter.lt('CLOUDY_PIXEL_PERCENTAGE', 20))\\\n",
    "        .filter(ee.Filter.bounds(agra))\\\n",
    "        .median()\\\n",
    "        .select(se2bands)\\\n",
    "        .clip(agra)"
   ]
  },
  {
   "cell_type": "code",
   "execution_count": 96,
   "id": "2faf1153-9fb9-454d-8e5d-c4ffa1f66d97",
   "metadata": {},
   "outputs": [
    {
     "data": {
      "application/vnd.jupyter.widget-view+json": {
       "model_id": "1c0f6047b65642c596b81a8eb2a48493",
       "version_major": 2,
       "version_minor": 0
      },
      "text/plain": [
       "Map(bottom=14172.0, center=[26.586685046863053, 81.29882812500001], controls=(WidgetControl(options=['position…"
      ]
     },
     "metadata": {},
     "output_type": "display_data"
    }
   ],
   "source": [
    "## specifying the viz parameter\n",
    "\n",
    "rgbViz = {\n",
    "    'min': 0.0,\n",
    "    'max': 3000,\n",
    "    'bands': ['B4', 'B3', 'B3']\n",
    "}\n",
    "\n",
    "Map.addLayer(s2, rgbViz, 'Sentinel layer')\n",
    "Map"
   ]
  },
  {
   "cell_type": "markdown",
   "id": "9e59be44-764d-4be8-95b7-55ba665948e3",
   "metadata": {},
   "source": [
    "## Loading the GHSL data\n",
    "\n",
    "First, there is one band with four “degrees of urbanization”:\n",
    "\n",
    "- Inhabited areas (a\n",
    "\n",
    "- Rural grid cells\n",
    "\n",
    "- Low Density Clusters (towns and cities)\n",
    "\n",
    "- High Density Clusters (cities)"
   ]
  },
  {
   "cell_type": "code",
   "execution_count": 97,
   "id": "09b40b22-45a9-4701-879b-1269ce197c66",
   "metadata": {},
   "outputs": [],
   "source": [
    "\n",
    "ghsl = ee.ImageCollection('JRC/GHSL/P2016/SMOD_POP_GLOBE_V1')\\\n",
    "        .filter(ee.Filter.date('2015-01-01', '2015-12-31'))\\\n",
    "        .select('smod_code')\\\n",
    "        .median()\\\n",
    "        .gte(2)\\\n",
    "        .clip(agra)\n",
    "\n",
    "        "
   ]
  },
  {
   "cell_type": "code",
   "execution_count": 98,
   "id": "f689692a-ef56-4d79-a616-8ecd59e8ac73",
   "metadata": {},
   "outputs": [],
   "source": [
    "## visualisng ghsl\n",
    "ghsl = ee.ImageCollection('JRC/GHSL/P2016/SMOD_POP_GLOBE_V1').filter(ee.Filter.date(\n",
    "    '2015-01-01', '2015-12-31')).select('smod_code').median().gte(2).clip(agra)\n",
    "\n",
    "ghslVis= {\"min\":0.0, \"max\":3.0,\"palette\":['000000', '448564', '70daa4', 'ffffff']}\n",
    "ghslbiVis= {\"palette\":['000000', 'ffffff']}\n",
    "\n",
    "ghslbinary = ghsl.gte(2)\n",
    "Map.addLayer(ghsl, ghslVis, 'Degree of Urbanization')\n",
    "Map.addLayer(ghslbinary, ghslbiVis, 'Built up')\n",
    "\n",
    "\n",
    "## 1000 meters not doing a good job in capturing built up"
   ]
  },
  {
   "cell_type": "code",
   "execution_count": 99,
   "id": "9d9194c0-d797-4bf8-83bc-004fb95a2c01",
   "metadata": {},
   "outputs": [
    {
     "data": {
      "application/vnd.jupyter.widget-view+json": {
       "model_id": "1c0f6047b65642c596b81a8eb2a48493",
       "version_major": 2,
       "version_minor": 0
      },
      "text/plain": [
       "Map(bottom=7072670.0, center=[27.16451888369808, 78.01963448524477], controls=(WidgetControl(options=['positio…"
      ]
     },
     "metadata": {},
     "output_type": "display_data"
    }
   ],
   "source": [
    "Map"
   ]
  },
  {
   "cell_type": "code",
   "execution_count": 100,
   "id": "bc354dd0-5e5e-4251-af82-3e82b9e2bc86",
   "metadata": {},
   "outputs": [
    {
     "data": {
      "application/vnd.jupyter.widget-view+json": {
       "model_id": "1c0f6047b65642c596b81a8eb2a48493",
       "version_major": 2,
       "version_minor": 0
      },
      "text/plain": [
       "Map(bottom=7072670.0, center=[27.16451888369808, 78.01965594291688], controls=(WidgetControl(options=['positio…"
      ]
     },
     "metadata": {},
     "output_type": "display_data"
    }
   ],
   "source": [
    "## ghsl built up 38 meter\n",
    "\n",
    "ghsl2 = ee.Image('JRC/GHSL/P2016/BUILT_LDSMT_GLOBE_V1').clip(agra)\n",
    "built= ghsl2.select('built')\n",
    "visParams = {\n",
    "  \"min\": 1.0,\n",
    "  \"max\": 5.0,\n",
    "  \"palette\": ['448564', '70daa4', '83ffbf', 'ffffff'],\n",
    "};\n",
    "Map.centerObject(agra)\n",
    "Map.addLayer(built, visParams, 'Built-Up Multitemporal');\n",
    "\n",
    "Map\n",
    "\n",
    "## not capturing the buildings in rural area well, but what if i use it to train and then it captures it?"
   ]
  },
  {
   "cell_type": "markdown",
   "id": "28a7be7f-b719-4775-bf68-17978366337a",
   "metadata": {},
   "source": [
    "## Dynamic world"
   ]
  },
  {
   "cell_type": "code",
   "execution_count": 5,
   "id": "2772c038-a33e-4153-a280-13eb3b170d83",
   "metadata": {},
   "outputs": [
    {
     "data": {
      "application/vnd.jupyter.widget-view+json": {
       "model_id": "916182a76f2843b08c1cdfb466722a90",
       "version_major": 2,
       "version_minor": 0
      },
      "text/plain": [
       "Map(bottom=110380.0, center=[27.68387433372154, 76.04160650969253], controls=(WidgetControl(options=['position…"
      ]
     },
     "metadata": {},
     "output_type": "display_data"
    }
   ],
   "source": [
    " dw = ee.ImageCollection('GOOGLE/DYNAMICWORLD/V1')\\\n",
    "    .filter(ee.Filter.date('2016-05-27', '2016-12-31'))\\\n",
    "    .filterBounds(agra)\\\n",
    "    .select('label')\\\n",
    "    .mode()\\\n",
    "    .eq(6)\\\n",
    "    .clip(agra)\n",
    "Map.addLayer(dw)\n",
    "Map"
   ]
  },
  {
   "cell_type": "code",
   "execution_count": null,
   "id": "dc64c153-3db7-4346-835c-72aa2649319d",
   "metadata": {},
   "outputs": [],
   "source": [
    "\n",
    "out_dir = os.path.join(os.path.expanduser('~'), 'najah/work/internships/anusthub')\n",
    "filename = os.path.join(out_dir, 'agra.tif')\n",
    "\n",
    "# image = image.clip(roi).unmask()\n",
    "geemap.ee_export_image(\n",
    "    dw, filename=filename, scale=10, region=agra, file_per_band=False\n",
    ")"
   ]
  },
  {
   "cell_type": "code",
   "execution_count": 8,
   "id": "673c1ce0-0273-4c99-886b-5fffd23fc3e2",
   "metadata": {},
   "outputs": [
    {
     "data": {
      "application/vnd.jupyter.widget-view+json": {
       "model_id": "916182a76f2843b08c1cdfb466722a90",
       "version_major": 2,
       "version_minor": 0
      },
      "text/plain": [
       "Map(bottom=110380.0, center=[27.68387433372154, 76.04160650969253], controls=(WidgetControl(options=['position…"
      ]
     },
     "metadata": {},
     "output_type": "display_data"
    }
   ],
   "source": [
    "## upload the thaluk files\n",
    "\n",
    "agra_taluk = '/Users/najah/work/internships/anusthub/shapefiles/Agra/agra_agra.shp'\n",
    "agra_taluk_ee= geemap.shp_to_ee(agra_taluk)\n",
    "Map.addLayer(agra_taluk_ee)\n",
    "Map.centerObject(agra_taluk_ee)\n",
    "Map"
   ]
  },
  {
   "cell_type": "code",
   "execution_count": 9,
   "id": "152cedf1-c87c-46b1-b4b7-04564defbea4",
   "metadata": {},
   "outputs": [
    {
     "name": "stdout",
     "output_type": "stream",
     "text": [
      "5793883\n",
      "1679421\n",
      "28.98610482814375\n"
     ]
    }
   ],
   "source": [
    "for year in [dw_16, dw_20]\n",
    "total_pixels = dw.clip(agra_taluk_ee).reduceRegion(reducer=ee.Reducer.count(), scale = 10, geometry= agra_taluk_ee)\n",
    "print(total_pixels.get('label').getInfo())\n",
    "masked = dw.selfMask()\n",
    "\n",
    "built_pixels = masked.clip(agra_taluk_ee).reduceRegion(reducer=ee.Reducer.count(), scale = 10, geometry= agra_taluk_ee)\n",
    "print(built_pixels.get('label').getInfo())\n",
    "# print(built.getInfo())\n",
    "\n",
    "print((built_pixels.get('label').getInfo()/total_pixels.get('label').getInfo())*100)"
   ]
  },
  {
   "cell_type": "code",
   "execution_count": 147,
   "id": "ab25fd31-079f-411c-b18b-a1241f80b512",
   "metadata": {},
   "outputs": [],
   "source": [
    "dw_16 = ee.ImageCollection('GOOGLE/DYNAMICWORLD/V1')\\\n",
    "    .filter(ee.Filter.date('2016-05-27', '2016-12-31'))\\\n",
    "    .filterBounds(agra)\\\n",
    "    .select('label')\\\n",
    "    .mode()\\\n",
    "    .eq(6)\\\n",
    "    .clip(agra)\n",
    "dw_17 = ee.ImageCollection('GOOGLE/DYNAMICWORLD/V1')\\\n",
    "    .filter(ee.Filter.date('2020-05-27', '2020-12-31'))\\\n",
    "    .filterBounds(agra)\\\n",
    "    .select('label')\\\n",
    "    .mode()\\\n",
    "    .eq(6)\\\n",
    "    .clip(agra)"
   ]
  },
  {
   "cell_type": "code",
   "execution_count": 40,
   "id": "717b4974-ea7e-4eba-a99c-a76b06c79cc5",
   "metadata": {},
   "outputs": [
    {
     "ename": "AttributeError",
     "evalue": "'str' object has no attribute 'clip'",
     "output_type": "error",
     "traceback": [
      "\u001b[0;31m---------------------------------------------------------------------------\u001b[0m",
      "\u001b[0;31mAttributeError\u001b[0m                            Traceback (most recent call last)",
      "Input \u001b[0;32mIn [40]\u001b[0m, in \u001b[0;36m<cell line: 2>\u001b[0;34m()\u001b[0m\n\u001b[1;32m      1\u001b[0m years \u001b[38;5;241m=\u001b[39m [\u001b[38;5;241m2016\u001b[39m, \u001b[38;5;241m2017\u001b[39m]\n\u001b[1;32m      2\u001b[0m \u001b[38;5;28;01mfor\u001b[39;00m year \u001b[38;5;129;01min\u001b[39;00m years:\n\u001b[0;32m----> 3\u001b[0m     total_pixels \u001b[38;5;241m=\u001b[39m \u001b[38;5;124m'\u001b[39m\u001b[38;5;124mdw_\u001b[39m\u001b[38;5;124m'\u001b[39m\u001b[38;5;241m+\u001b[39m\u001b[38;5;124;43mf\u001b[39;49m\u001b[38;5;124;43m'\u001b[39;49m\u001b[38;5;132;43;01m{\u001b[39;49;00m\u001b[43myear\u001b[49m\u001b[38;5;132;43;01m}\u001b[39;49;00m\u001b[38;5;124;43m'\u001b[39;49m\u001b[38;5;241;43m.\u001b[39;49m\u001b[43mclip\u001b[49m(agra_taluk_ee)\u001b[38;5;241m.\u001b[39mreduceRegion(reducer\u001b[38;5;241m=\u001b[39mee\u001b[38;5;241m.\u001b[39mReducer\u001b[38;5;241m.\u001b[39mcount(), scale \u001b[38;5;241m=\u001b[39m \u001b[38;5;241m10\u001b[39m, geometry\u001b[38;5;241m=\u001b[39m agra_taluk_ee)\n\u001b[1;32m      4\u001b[0m     \u001b[38;5;28mprint\u001b[39m(total_pixels\u001b[38;5;241m.\u001b[39mget(\u001b[38;5;124m'\u001b[39m\u001b[38;5;124mlabel\u001b[39m\u001b[38;5;124m'\u001b[39m)\u001b[38;5;241m.\u001b[39mgetInfo())\n\u001b[1;32m      5\u001b[0m     masked \u001b[38;5;241m=\u001b[39m \u001b[38;5;124m'\u001b[39m\u001b[38;5;124mdw_\u001b[39m\u001b[38;5;124m'\u001b[39m\u001b[38;5;241m+\u001b[39m\u001b[38;5;124mf\u001b[39m\u001b[38;5;124m'\u001b[39m\u001b[38;5;132;01m{\u001b[39;00myear\u001b[38;5;132;01m}\u001b[39;00m\u001b[38;5;124m'\u001b[39m\u001b[38;5;241m.\u001b[39mselfMask()\n",
      "\u001b[0;31mAttributeError\u001b[0m: 'str' object has no attribute 'clip'"
     ]
    }
   ],
   "source": [
    "years = [2016, 2017]\n",
    "for year in years:\n",
    "    total_pixels = 'dw_'+f'{year}'.clip(agra_taluk_ee).reduceRegion(reducer=ee.Reducer.count(), scale = 10, geometry= agra_taluk_ee)\n",
    "    print(total_pixels.get('label').getInfo())\n",
    "    masked = 'dw_'+f'{year}'.selfMask()\n",
    "    built_pixels = masked.clip(agra_taluk_ee).reduceRegion(reducer=ee.Reducer.count(), scale = 10, geometry= agra_taluk_ee)\n",
    "    print(built_pixels.get('label').getInfo())\n",
    "\n"
   ]
  },
  {
   "cell_type": "code",
   "execution_count": null,
   "id": "7f691773-63e7-4051-9b62-60a8c9f3e0c2",
   "metadata": {},
   "outputs": [],
   "source": []
  },
  {
   "cell_type": "code",
   "execution_count": 148,
   "id": "80ee5247-668d-4e70-bf89-a575dc19dde5",
   "metadata": {},
   "outputs": [
    {
     "name": "stdout",
     "output_type": "stream",
     "text": [
      "kheragarh finished\n",
      "kheragarh finished\n",
      "bah finished\n",
      "bah finished\n",
      "etmadpur finished\n",
      "etmadpur finished\n",
      "fatehabad finished\n",
      "fatehabad finished\n",
      "agra finished\n",
      "agra finished\n",
      "kiraoli finished\n",
      "kiraoli finished\n"
     ]
    }
   ],
   "source": [
    "import os\n",
    "in_dir = os.path.join(os.path.expanduser('~'), 'work/internships/anusthub/shapefiles/Agra')\n",
    "total_pixels =[]\n",
    "built_pixels = []\n",
    "district_list = []\n",
    "taluk_list = []\n",
    "for root, dirs, files in os.walk('./'):\n",
    "    for file in files:\n",
    "        filename, extension = os.path.splitext(file)\n",
    "        if extension == '.shp':\n",
    "            filename = os.path.join(in_dir, file)\n",
    "            taluk_ee= geemap.shp_to_ee(f'{filename}')\n",
    "            years = [dw_16, dw_20]\n",
    "            for year in years:\n",
    "            \n",
    "                ## total pixels\n",
    "                total_pixels_count = year.clip(taluk_ee).reduceRegion(reducer=ee.Reducer.count(), scale = 10, geometry= taluk_ee)\n",
    "                total = total_pixels_count.get('label').getInfo()\n",
    "                total_pixels.append(total)\n",
    "\n",
    "                ## built pixels\n",
    "                masked = year.selfMask()\n",
    "                built_pixels_count = masked.clip(taluk_ee).reduceRegion(reducer=ee.Reducer.count(), scale = 10, geometry= taluk_ee)\n",
    "                built = built_pixels_count.get('label').getInfo()\n",
    "                built_pixels.append(built)\n",
    "                # print(built.getInfo())\n",
    "\n",
    "                ## file names\n",
    "                file_split = (file.split('.', 1)[0])\n",
    "                district = file_split.split('_')[0]\n",
    "                district_list.append(district)\n",
    "                taluk = (file_split.split('_')[1])\n",
    "                taluk_list.append(taluk)\n",
    "                print(str(taluk) + \" finished\")\n",
    "            \n",
    "df =  pd.DataFrame({'year':[2016,2020]*int(len(taluk_list)/2),\n",
    "                   'district': district_list,\n",
    "                   'taluk':taluk_list,\n",
    "                   'total_pixels':total_pixels, \n",
    "                   'built_pixels':built_pixels}) \n",
    "df_wide = df.pivot( index = ['district','taluk'],columns ='year', values = ['built_pixels', 'total_pixels'])\\\n",
    ".iloc[:,0:(len(df_wide)-3)].reset_index().droplevel(0, axis=1)\n",
    "df_wide.columns= ['district', 'taluk', 'built_2016', 'built_2020', 'total_pixels']\n",
    "df_wide['built_16_pc'] = df_wide['built_2016']/df_wide['total_pixels']*100\n",
    "df_wide['built_20_pc'] = df_wide['built_2020']/df_wide['total_pixels']*100\n",
    "df_wide['relative_change']= (df_wide['built_2020'] -df_wide['built_2016'])/df_wide['built_2016']*100\n",
    "df_wide\n",
    "df_wide.to_csv('./agra_built_diff.csv')\n",
    "\n",
    "          \n",
    "\n"
   ]
  },
  {
   "cell_type": "code",
   "execution_count": 149,
   "id": "2af9277c-24f9-410f-84df-f0f1c86d17fe",
   "metadata": {},
   "outputs": [
    {
     "data": {
      "text/html": [
       "<div>\n",
       "<style scoped>\n",
       "    .dataframe tbody tr th:only-of-type {\n",
       "        vertical-align: middle;\n",
       "    }\n",
       "\n",
       "    .dataframe tbody tr th {\n",
       "        vertical-align: top;\n",
       "    }\n",
       "\n",
       "    .dataframe thead th {\n",
       "        text-align: right;\n",
       "    }\n",
       "</style>\n",
       "<table border=\"1\" class=\"dataframe\">\n",
       "  <thead>\n",
       "    <tr style=\"text-align: right;\">\n",
       "      <th></th>\n",
       "      <th>dsitrict</th>\n",
       "      <th>taluk</th>\n",
       "      <th>built_2016</th>\n",
       "      <th>built_2020</th>\n",
       "      <th>total_pixels</th>\n",
       "      <th>built_16_pc</th>\n",
       "      <th>built_20_pc</th>\n",
       "      <th>relative_change</th>\n",
       "    </tr>\n",
       "  </thead>\n",
       "  <tbody>\n",
       "    <tr>\n",
       "      <th>0</th>\n",
       "      <td>agra</td>\n",
       "      <td>agra</td>\n",
       "      <td>1679421</td>\n",
       "      <td>1932240</td>\n",
       "      <td>5793883</td>\n",
       "      <td>28.986105</td>\n",
       "      <td>33.349655</td>\n",
       "      <td>15.053938</td>\n",
       "    </tr>\n",
       "    <tr>\n",
       "      <th>1</th>\n",
       "      <td>agra</td>\n",
       "      <td>bah</td>\n",
       "      <td>392130</td>\n",
       "      <td>519001</td>\n",
       "      <td>9168057</td>\n",
       "      <td>4.277133</td>\n",
       "      <td>5.660970</td>\n",
       "      <td>32.354321</td>\n",
       "    </tr>\n",
       "    <tr>\n",
       "      <th>2</th>\n",
       "      <td>agra</td>\n",
       "      <td>etmadpur</td>\n",
       "      <td>14808</td>\n",
       "      <td>19632</td>\n",
       "      <td>91922</td>\n",
       "      <td>16.109310</td>\n",
       "      <td>21.357238</td>\n",
       "      <td>32.576985</td>\n",
       "    </tr>\n",
       "    <tr>\n",
       "      <th>3</th>\n",
       "      <td>agra</td>\n",
       "      <td>fatehabad</td>\n",
       "      <td>500322</td>\n",
       "      <td>606930</td>\n",
       "      <td>6893958</td>\n",
       "      <td>7.257398</td>\n",
       "      <td>8.803796</td>\n",
       "      <td>21.307878</td>\n",
       "    </tr>\n",
       "    <tr>\n",
       "      <th>4</th>\n",
       "      <td>agra</td>\n",
       "      <td>kheragarh</td>\n",
       "      <td>412314</td>\n",
       "      <td>513266</td>\n",
       "      <td>8218489</td>\n",
       "      <td>5.016908</td>\n",
       "      <td>6.245260</td>\n",
       "      <td>24.484252</td>\n",
       "    </tr>\n",
       "    <tr>\n",
       "      <th>5</th>\n",
       "      <td>agra</td>\n",
       "      <td>kiraoli</td>\n",
       "      <td>506435</td>\n",
       "      <td>612970</td>\n",
       "      <td>7765458</td>\n",
       "      <td>6.521637</td>\n",
       "      <td>7.893546</td>\n",
       "      <td>21.036263</td>\n",
       "    </tr>\n",
       "  </tbody>\n",
       "</table>\n",
       "</div>"
      ],
      "text/plain": [
       "  dsitrict      taluk  built_2016  built_2020  total_pixels  built_16_pc  \\\n",
       "0     agra       agra     1679421     1932240       5793883    28.986105   \n",
       "1     agra        bah      392130      519001       9168057     4.277133   \n",
       "2     agra   etmadpur       14808       19632         91922    16.109310   \n",
       "3     agra  fatehabad      500322      606930       6893958     7.257398   \n",
       "4     agra  kheragarh      412314      513266       8218489     5.016908   \n",
       "5     agra    kiraoli      506435      612970       7765458     6.521637   \n",
       "\n",
       "   built_20_pc  relative_change  \n",
       "0    33.349655        15.053938  \n",
       "1     5.660970        32.354321  \n",
       "2    21.357238        32.576985  \n",
       "3     8.803796        21.307878  \n",
       "4     6.245260        24.484252  \n",
       "5     7.893546        21.036263  "
      ]
     },
     "execution_count": 149,
     "metadata": {},
     "output_type": "execute_result"
    }
   ],
   "source": [
    "df_wide"
   ]
  },
  {
   "cell_type": "code",
   "execution_count": 130,
   "id": "fd92a596-b328-4152-ab9a-12aeb23f9f23",
   "metadata": {},
   "outputs": [],
   "source": [
    "df =  pd.DataFrame({'year':[2016,2020]*int(len(taluk_list)/2),\n",
    "                   'district': district_list,\n",
    "                   'taluk':taluk_list,\n",
    "                   'total_pixels':total_pixels, \n",
    "                   'built_pixels':built_pixels})\n"
   ]
  },
  {
   "cell_type": "code",
   "execution_count": 142,
   "id": "987bcf91-2ef5-4ffa-9a52-b3b752b04233",
   "metadata": {},
   "outputs": [
    {
     "data": {
      "text/html": [
       "<div>\n",
       "<style scoped>\n",
       "    .dataframe tbody tr th:only-of-type {\n",
       "        vertical-align: middle;\n",
       "    }\n",
       "\n",
       "    .dataframe tbody tr th {\n",
       "        vertical-align: top;\n",
       "    }\n",
       "\n",
       "    .dataframe thead th {\n",
       "        text-align: right;\n",
       "    }\n",
       "</style>\n",
       "<table border=\"1\" class=\"dataframe\">\n",
       "  <thead>\n",
       "    <tr style=\"text-align: right;\">\n",
       "      <th></th>\n",
       "      <th>dsitrict</th>\n",
       "      <th>taluk</th>\n",
       "      <th>built_2016</th>\n",
       "      <th>built_2020</th>\n",
       "      <th>total_pixels</th>\n",
       "      <th>built_16_pc</th>\n",
       "      <th>built_20_pc</th>\n",
       "      <th>relative_change</th>\n",
       "    </tr>\n",
       "  </thead>\n",
       "  <tbody>\n",
       "    <tr>\n",
       "      <th>0</th>\n",
       "      <td>agra</td>\n",
       "      <td>agra</td>\n",
       "      <td>1679421</td>\n",
       "      <td>1932240</td>\n",
       "      <td>5793883</td>\n",
       "      <td>28.986105</td>\n",
       "      <td>33.349655</td>\n",
       "      <td>15.053938</td>\n",
       "    </tr>\n",
       "    <tr>\n",
       "      <th>1</th>\n",
       "      <td>agra</td>\n",
       "      <td>bah</td>\n",
       "      <td>392130</td>\n",
       "      <td>519001</td>\n",
       "      <td>9168057</td>\n",
       "      <td>4.277133</td>\n",
       "      <td>5.660970</td>\n",
       "      <td>32.354321</td>\n",
       "    </tr>\n",
       "    <tr>\n",
       "      <th>2</th>\n",
       "      <td>agra</td>\n",
       "      <td>etmadpur</td>\n",
       "      <td>14808</td>\n",
       "      <td>19632</td>\n",
       "      <td>91922</td>\n",
       "      <td>16.109310</td>\n",
       "      <td>21.357238</td>\n",
       "      <td>32.576985</td>\n",
       "    </tr>\n",
       "    <tr>\n",
       "      <th>3</th>\n",
       "      <td>agra</td>\n",
       "      <td>fatehabad</td>\n",
       "      <td>500322</td>\n",
       "      <td>606930</td>\n",
       "      <td>6893958</td>\n",
       "      <td>7.257398</td>\n",
       "      <td>8.803796</td>\n",
       "      <td>21.307878</td>\n",
       "    </tr>\n",
       "    <tr>\n",
       "      <th>4</th>\n",
       "      <td>agra</td>\n",
       "      <td>kheragarh</td>\n",
       "      <td>412314</td>\n",
       "      <td>513266</td>\n",
       "      <td>8218489</td>\n",
       "      <td>5.016908</td>\n",
       "      <td>6.245260</td>\n",
       "      <td>24.484252</td>\n",
       "    </tr>\n",
       "    <tr>\n",
       "      <th>5</th>\n",
       "      <td>agra</td>\n",
       "      <td>kiraoli</td>\n",
       "      <td>506435</td>\n",
       "      <td>612970</td>\n",
       "      <td>7765458</td>\n",
       "      <td>6.521637</td>\n",
       "      <td>7.893546</td>\n",
       "      <td>21.036263</td>\n",
       "    </tr>\n",
       "  </tbody>\n",
       "</table>\n",
       "</div>"
      ],
      "text/plain": [
       "  dsitrict      taluk  built_2016  built_2020  total_pixels  built_16_pc  \\\n",
       "0     agra       agra     1679421     1932240       5793883    28.986105   \n",
       "1     agra        bah      392130      519001       9168057     4.277133   \n",
       "2     agra   etmadpur       14808       19632         91922    16.109310   \n",
       "3     agra  fatehabad      500322      606930       6893958     7.257398   \n",
       "4     agra  kheragarh      412314      513266       8218489     5.016908   \n",
       "5     agra    kiraoli      506435      612970       7765458     6.521637   \n",
       "\n",
       "   built_20_pc  relative_change  \n",
       "0    33.349655        15.053938  \n",
       "1     5.660970        32.354321  \n",
       "2    21.357238        32.576985  \n",
       "3     8.803796        21.307878  \n",
       "4     6.245260        24.484252  \n",
       "5     7.893546        21.036263  "
      ]
     },
     "execution_count": 142,
     "metadata": {},
     "output_type": "execute_result"
    }
   ],
   "source": [
    "df_wide = df.pivot( index = ['district','taluk'],columns ='year', values = ['built_pixels', 'total_pixels'])\\\n",
    ".iloc[:,0:(len(df_wide)-3)].reset_index().droplevel(0, axis=1)\n",
    "df_wide.columns= ['dsitrict', 'taluk', 'built_2016', 'built_2020', 'total_pixels']\n",
    "df_wide['built_16_pc'] = df_wide['built_2016']/df_wide['total_pixels']*100\n",
    "df_wide['built_20_pc'] = df_wide['built_2020']/df_wide['total_pixels']*100\n",
    "df_wide['relative_change']= (df_wide['built_2020'] -df_wide['built_2016'])/df_wide['built_2016']*100\n",
    "df_wide\n",
    "df_wide.to_csv('./agra_built_diff.csv')"
   ]
  },
  {
   "cell_type": "code",
   "execution_count": 146,
   "id": "1feb321d-2cf2-4e95-97f3-7346adad4cea",
   "metadata": {},
   "outputs": [],
   "source": []
  },
  {
   "cell_type": "code",
   "execution_count": 92,
   "id": "9dcd0e15-971d-4c2f-8703-98533decc69f",
   "metadata": {},
   "outputs": [
    {
     "name": "stdout",
     "output_type": "stream",
     "text": [
      "kheragarh finished\n",
      "bah finished\n",
      "etmadpur finished\n",
      "fatehabad finished\n",
      "agra finished\n",
      "kiraoli finished\n"
     ]
    }
   ],
   "source": [
    "import os\n",
    "in_dir = os.path.join(os.path.expanduser('~'), 'work/internships/anusthub/shapefiles/Agra')\n",
    "\n",
    "total_pixels =[]\n",
    "built_pixels = []\n",
    "district_list = []\n",
    "taluk_list = []\n",
    "for root, dirs, files in os.walk('./'):\n",
    "    for file in files:\n",
    "        filename, extension = os.path.splitext(file)\n",
    "        if extension == '.shp':\n",
    "            filename = os.path.join(in_dir, file)\n",
    "            taluk_ee= geemap.shp_to_ee(f'{filename}')\n",
    "            \n",
    "            ## total pixels\n",
    "            total_pixels_count = dw.clip(taluk_ee).reduceRegion(reducer=ee.Reducer.count(), scale = 10, geometry= taluk_ee)\n",
    "            total = total_pixels_count.get('label').getInfo()\n",
    "            total_pixels.append(total)\n",
    "            \n",
    "            ## built pixels\n",
    "            masked = dw.selfMask()\n",
    "            built_pixels_count = masked.clip(taluk_ee).reduceRegion(reducer=ee.Reducer.count(), scale = 10, geometry= taluk_ee)\n",
    "            built = built_pixels_count.get('label').getInfo()\n",
    "            built_pixels.append(built)\n",
    "            # print(built.getInfo())\n",
    "            \n",
    "            ## file names\n",
    "            file_split = (file.split('.', 1)[0])\n",
    "            district = file_split.split('_')[0]\n",
    "            district_list.append(district)\n",
    "            taluk = (file_split.split('_')[1])\n",
    "            taluk_list.append(taluk)\n",
    "            print(str(taluk) + \" finished\")\n",
    "            \n",
    "            \n",
    "import pandas as pd\n",
    "df = pd.DataFrame({'district': district_list,\n",
    "                   'taluk':taluk_list,\n",
    "                   'total_pixels':total_pixels, \n",
    "                   'built_pixels':built_pixels})\n",
    "df['built_ratio']= df.built_pixels/df.total_pixels\n",
    "df\n",
    "df.to_csv('./agra_built.csv')\n",
    "          \n",
    "\n"
   ]
  },
  {
   "cell_type": "code",
   "execution_count": 93,
   "id": "ab0488d0-43ce-4ee1-a9c6-ab38b7d54af0",
   "metadata": {},
   "outputs": [
    {
     "data": {
      "text/html": [
       "<div>\n",
       "<style scoped>\n",
       "    .dataframe tbody tr th:only-of-type {\n",
       "        vertical-align: middle;\n",
       "    }\n",
       "\n",
       "    .dataframe tbody tr th {\n",
       "        vertical-align: top;\n",
       "    }\n",
       "\n",
       "    .dataframe thead th {\n",
       "        text-align: right;\n",
       "    }\n",
       "</style>\n",
       "<table border=\"1\" class=\"dataframe\">\n",
       "  <thead>\n",
       "    <tr style=\"text-align: right;\">\n",
       "      <th></th>\n",
       "      <th>district</th>\n",
       "      <th>taluk</th>\n",
       "      <th>total_pixels</th>\n",
       "      <th>built_pixels</th>\n",
       "      <th>built_ratio</th>\n",
       "    </tr>\n",
       "  </thead>\n",
       "  <tbody>\n",
       "    <tr>\n",
       "      <th>0</th>\n",
       "      <td>agra</td>\n",
       "      <td>kheragarh</td>\n",
       "      <td>8218489</td>\n",
       "      <td>412314</td>\n",
       "      <td>0.050169</td>\n",
       "    </tr>\n",
       "    <tr>\n",
       "      <th>1</th>\n",
       "      <td>agra</td>\n",
       "      <td>bah</td>\n",
       "      <td>9168057</td>\n",
       "      <td>392130</td>\n",
       "      <td>0.042771</td>\n",
       "    </tr>\n",
       "    <tr>\n",
       "      <th>2</th>\n",
       "      <td>agra</td>\n",
       "      <td>etmadpur</td>\n",
       "      <td>91922</td>\n",
       "      <td>14808</td>\n",
       "      <td>0.161093</td>\n",
       "    </tr>\n",
       "    <tr>\n",
       "      <th>3</th>\n",
       "      <td>agra</td>\n",
       "      <td>fatehabad</td>\n",
       "      <td>6893958</td>\n",
       "      <td>500322</td>\n",
       "      <td>0.072574</td>\n",
       "    </tr>\n",
       "    <tr>\n",
       "      <th>4</th>\n",
       "      <td>agra</td>\n",
       "      <td>agra</td>\n",
       "      <td>5793883</td>\n",
       "      <td>1679421</td>\n",
       "      <td>0.289861</td>\n",
       "    </tr>\n",
       "    <tr>\n",
       "      <th>5</th>\n",
       "      <td>agra</td>\n",
       "      <td>kiraoli</td>\n",
       "      <td>7765458</td>\n",
       "      <td>506435</td>\n",
       "      <td>0.065216</td>\n",
       "    </tr>\n",
       "  </tbody>\n",
       "</table>\n",
       "</div>"
      ],
      "text/plain": [
       "  district      taluk  total_pixels  built_pixels  built_ratio\n",
       "0     agra  kheragarh       8218489        412314     0.050169\n",
       "1     agra        bah       9168057        392130     0.042771\n",
       "2     agra   etmadpur         91922         14808     0.161093\n",
       "3     agra  fatehabad       6893958        500322     0.072574\n",
       "4     agra       agra       5793883       1679421     0.289861\n",
       "5     agra    kiraoli       7765458        506435     0.065216"
      ]
     },
     "execution_count": 93,
     "metadata": {},
     "output_type": "execute_result"
    }
   ],
   "source": [
    "df"
   ]
  },
  {
   "cell_type": "code",
   "execution_count": 198,
   "id": "880b7e8a-f00a-4a40-b88e-c45b072d6069",
   "metadata": {
    "tags": []
   },
   "outputs": [
    {
     "name": "stdout",
     "output_type": "stream",
     "text": [
      "agra finished\n",
      "bah finished\n",
      "etmadpur finished\n",
      "fatehabad finished\n",
      "kheragarh finished\n",
      "kiraoli finished\n"
     ]
    },
    {
     "data": {
      "text/html": [
       "<div>\n",
       "<style scoped>\n",
       "    .dataframe tbody tr th:only-of-type {\n",
       "        vertical-align: middle;\n",
       "    }\n",
       "\n",
       "    .dataframe tbody tr th {\n",
       "        vertical-align: top;\n",
       "    }\n",
       "\n",
       "    .dataframe thead th {\n",
       "        text-align: right;\n",
       "    }\n",
       "</style>\n",
       "<table border=\"1\" class=\"dataframe\">\n",
       "  <thead>\n",
       "    <tr style=\"text-align: right;\">\n",
       "      <th></th>\n",
       "      <th>taluk</th>\n",
       "      <th>total_pixels</th>\n",
       "      <th>built_pixels</th>\n",
       "      <th>built_ratio</th>\n",
       "    </tr>\n",
       "  </thead>\n",
       "  <tbody>\n",
       "    <tr>\n",
       "      <th>0</th>\n",
       "      <td>agra</td>\n",
       "      <td>5999498</td>\n",
       "      <td>1690277</td>\n",
       "      <td>0.281736</td>\n",
       "    </tr>\n",
       "    <tr>\n",
       "      <th>1</th>\n",
       "      <td>bah</td>\n",
       "      <td>9938657</td>\n",
       "      <td>408251</td>\n",
       "      <td>0.041077</td>\n",
       "    </tr>\n",
       "    <tr>\n",
       "      <th>2</th>\n",
       "      <td>etmadpur</td>\n",
       "      <td>5345727</td>\n",
       "      <td>724725</td>\n",
       "      <td>0.135571</td>\n",
       "    </tr>\n",
       "    <tr>\n",
       "      <th>3</th>\n",
       "      <td>fatehabad</td>\n",
       "      <td>7371309</td>\n",
       "      <td>526187</td>\n",
       "      <td>0.071383</td>\n",
       "    </tr>\n",
       "    <tr>\n",
       "      <th>4</th>\n",
       "      <td>kheragarh</td>\n",
       "      <td>8937118</td>\n",
       "      <td>433791</td>\n",
       "      <td>0.048538</td>\n",
       "    </tr>\n",
       "    <tr>\n",
       "      <th>5</th>\n",
       "      <td>kiraoli</td>\n",
       "      <td>8139130</td>\n",
       "      <td>521106</td>\n",
       "      <td>0.064025</td>\n",
       "    </tr>\n",
       "  </tbody>\n",
       "</table>\n",
       "</div>"
      ],
      "text/plain": [
       "       taluk  total_pixels  built_pixels  built_ratio\n",
       "0       agra       5999498       1690277     0.281736\n",
       "1        bah       9938657        408251     0.041077\n",
       "2   etmadpur       5345727        724725     0.135571\n",
       "3  fatehabad       7371309        526187     0.071383\n",
       "4  kheragarh       8937118        433791     0.048538\n",
       "5    kiraoli       8139130        521106     0.064025"
      ]
     },
     "execution_count": 198,
     "metadata": {},
     "output_type": "execute_result"
    }
   ],
   "source": [
    "# ## loop for the same\n",
    "\n",
    "# taluk_list = ['agra', 'bah', 'etmadpur', 'fatehabad', 'kheragarh', 'kiraoli']\n",
    "# total_pixels = []\n",
    "# built_pixels = []\n",
    "\n",
    "\n",
    "# for taluk in taluk_list:\n",
    "#     taluk_path = '/Users/najah/work/internships/anusthub/shapfiles/Agra/agra_'+f'{taluk}'+'.shp'\n",
    "#     taluk_ee= geemap.shp_to_ee(taluk_path)\n",
    "    \n",
    "#     total_pixels_count = dw.clip(taluk_ee).reduceRegion(reducer=ee.Reducer.count(), scale = 10, geometry= taluk_ee)\n",
    "#     total = total_pixels_count.get('label').getInfo()\n",
    "#     total_pixels.append(total)\n",
    "#     masked = dw.selfMask()\n",
    "\n",
    "#     built_pixels_count = masked.clip(taluk_ee).reduceRegion(reducer=ee.Reducer.count(), scale = 10, geometry= taluk_ee)\n",
    "#     built = built_pixels_count.get('label').getInfo()\n",
    "#     built_pixels.append(built)\n",
    "#     # print(built.getInfo())\n",
    "#     print(taluk + \" finished\")\n",
    "# import pandas as pd\n",
    "# df = pd.DataFrame({'taluk':taluk_list,\n",
    "#                    'total_pixels':total_pixels, \n",
    "#                    'built_pixels':built_pixels})\n",
    "# df['built_ratio']= df.built_pixels/df.total_pixels\n",
    "# df\n",
    "# df.to_csv('./agra_built.csv')"
   ]
  },
  {
   "cell_type": "markdown",
   "id": "fc72f4a5-591e-435d-be74-3e3433d50399",
   "metadata": {},
   "source": [
    "### array attempts\n"
   ]
  },
  {
   "cell_type": "code",
   "execution_count": null,
   "id": "46c7fca1-a626-469a-b5b4-cb7e52bed410",
   "metadata": {},
   "outputs": [],
   "source": []
  },
  {
   "cell_type": "code",
   "execution_count": 126,
   "id": "aa2e046e-c2d2-4f7a-aeed-07265e99eabc",
   "metadata": {},
   "outputs": [],
   "source": [
    "range_coll = ee.ImageCollection('GOOGLE/DYNAMICWORLD/V1').filterDate('2016-05-27', '2016-12-31')\n",
    "dw_16 = (range_coll\n",
    "    .filterBounds(agra)\\\n",
    "    .select('label')\\\n",
    "    .mode()\\\n",
    "    .eq(6)\\\n",
    "    .clip(agra)\n",
    "    .setDefaultProjection(range_coll.first().projection()))"
   ]
  },
  {
   "cell_type": "code",
   "execution_count": 130,
   "id": "847dddd9-a012-45d2-813c-452f37ecad03",
   "metadata": {},
   "outputs": [
    {
     "name": "stdout",
     "output_type": "stream",
     "text": [
      "()\n"
     ]
    }
   ],
   "source": [
    "np_arr = np.array(dw_16.getInfo())\n",
    "print(np_arr.shape)"
   ]
  },
  {
   "cell_type": "code",
   "execution_count": 134,
   "id": "51e11d89-1887-42ba-889c-5a47cbe805b6",
   "metadata": {},
   "outputs": [],
   "source": [
    "np_arr = np.expand_dims(np_arr,0)"
   ]
  },
  {
   "cell_type": "code",
   "execution_count": null,
   "id": "f6dd02a5-461f-4f4d-a1db-8cb7127738f9",
   "metadata": {},
   "outputs": [],
   "source": [
    "np_arr."
   ]
  },
  {
   "cell_type": "code",
   "execution_count": 143,
   "id": "e1d292b7-8a30-4a62-b5c6-2733688977da",
   "metadata": {},
   "outputs": [
    {
     "name": "stdout",
     "output_type": "stream",
     "text": [
      "<class 'ee.feature.Feature'>\n",
      "(6, 6)\n",
      "(6, 6)\n",
      "(6, 6)\n"
     ]
    },
    {
     "data": {
      "image/png": "[encoded data removed]",
      "text/plain": [
       "<Figure size 640x480 with 1 Axes>"
      ]
     },
     "metadata": {},
     "output_type": "display_data"
    }
   ],
   "source": [
    "import json\n",
    "import ee\n",
    "import numpy as np\n",
    "import matplotlib.pyplot as plt\n",
    "\n",
    "ee.Initialize()\n",
    "\n",
    "\n",
    "point = ee.Geometry.Point([-55.8571, -9.7864])\n",
    "\n",
    "box_l8sr = ee.Geometry(point.buffer(50).bounds())\n",
    "box_l8sr2 = ee.Geometry.Polygon(box_l8sr.coordinates())\n",
    "# print(box_l8sr2)\n",
    "\n",
    "# Define an image.\n",
    "# l8sr_y = ee.Image('LANDSAT/LC08/C01/T1_SR/LC08_038029_20180810')\n",
    "oli_sr_coll = ee.ImageCollection('LANDSAT/LC08/C01/T1_SR')\n",
    "\n",
    "## Function to mask out clouds and cloud-shadows present in Landsat images\n",
    "def maskL8sr(image):\n",
    "  ## Bits 3 and 5 are cloud shadow and cloud, respectively.\n",
    "    cloudShadowBitMask = (1 << 3)\n",
    "    cloudsBitMask = (1 << 5)\n",
    "  ## Get the pixel QA band.\n",
    "    qa = image.select('pixel_qa')\n",
    "  ## Both flags should be set to zero, indicating clear conditions.\n",
    "    mask = qa.bitwiseAnd(cloudShadowBitMask).eq(0)\n",
    "    mask = qa.bitwiseAnd(cloudsBitMask).eq(0)\n",
    "    return image.updateMask(mask)\n",
    "\n",
    "range_coll = oli_sr_coll.filterDate('2019-01-01', '2019-12-31')\n",
    "l8sr_y = (range_coll\n",
    "    .map(maskL8sr)\n",
    "    .mean()\n",
    "    .setDefaultProjection(range_coll.first().projection()))\n",
    "\n",
    "l8sr_bands = l8sr_y.select(['B2', 'B3', 'B4']).sampleRectangle(box_l8sr2)\n",
    "print(type(l8sr_bands))\n",
    "# Get individual band arrays.\n",
    "band_arr_b4 = l8sr_bands.get('B4')\n",
    "band_arr_b3 = l8sr_bands.get('B3')\n",
    "band_arr_b2 = l8sr_bands.get('B2')\n",
    "\n",
    "\n",
    "# Transfer the arrays from server to client and cast as np array.\n",
    "np_arr_b4 = np.array(band_arr_b4.getInfo())\n",
    "np_arr_b3 = np.array(band_arr_b3.getInfo())\n",
    "np_arr_b2 = np.array(band_arr_b2.getInfo())\n",
    "print(np_arr_b4.shape)\n",
    "print(np_arr_b3.shape)\n",
    "print(np_arr_b2.shape)\n",
    "\n",
    "# Expand the dimensions of the images so they can be concatenated into 3-D.\n",
    "np_arr_b4 = np.expand_dims(np_arr_b4, 2)\n",
    "np_arr_b3 = np.expand_dims(np_arr_b3, 2)\n",
    "np_arr_b2 = np.expand_dims(np_arr_b2, 2)\n",
    "# # print(np_arr_b4.shape)\n",
    "# # print(np_arr_b5.shape)\n",
    "# # print(np_arr_b6.shape)\n",
    "\n",
    "# # Stack the individual bands to make a 3-D array.\n",
    "rgb_img = np.concatenate((np_arr_b2, np_arr_b3, np_arr_b4), 2)\n",
    "# print(rgb_img.shape)\n",
    "\n",
    "# # Scale the data to [0, 255] to show as an RGB image.\n",
    "rgb_img_test = (255*((rgb_img - 100)/3500)).astype('uint8')\n",
    "plt.imshow(rgb_img_test)\n",
    "plt.show()\n"
   ]
  },
  {
   "cell_type": "markdown",
   "id": "5f7a14ea-64fe-4f40-bc04-d067ac466043",
   "metadata": {
    "tags": []
   },
   "source": [
    "## trying to count the pixels without the help of ee"
   ]
  },
  {
   "cell_type": "code",
   "execution_count": 64,
   "id": "dfa992a2-2754-4ce8-8f60-86d0cf1988bc",
   "metadata": {},
   "outputs": [
    {
     "data": {
      "text/plain": [
       "ee.geometry.Geometry"
      ]
     },
     "execution_count": 64,
     "metadata": {},
     "output_type": "execute_result"
    }
   ],
   "source": [
    "#reading one one of the sahpe files\n",
    "\n",
    "path = 'najah/work/internships/anusthub/shapefiles/Agra/agra_agra.shp'\n",
    "\n",
    "ee_agra = geemap.shp_to_ee('./shapefiles/Agra/agra_agra.shp').geometry()\n",
    "\n",
    "\n",
    "\n",
    "dw_clip = dw_16.clip(ee_agra)\n",
    "type(ee_agra)\n",
    "\n",
    "# Map.addLayer(dw_clip)\n",
    "# agra_array = geemap.ee_to_numpy(dw_16, region = ee_agra)\n",
    "\n",
    "# geemap.ee_to_pandas(dw_16)\n"
   ]
  },
  {
   "cell_type": "code",
   "execution_count": 108,
   "id": "b9092f08-f851-4cc8-8995-85d23f203636",
   "metadata": {},
   "outputs": [],
   "source": [
    "arrayImage1D = dw_clip.toArray()"
   ]
  },
  {
   "cell_type": "code",
   "execution_count": 109,
   "id": "a935aa3e-481c-4b26-bf1a-c934914efe4a",
   "metadata": {},
   "outputs": [],
   "source": [
    "arrayImage2D = arrayImage1D.toArray(1)"
   ]
  },
  {
   "cell_type": "code",
   "execution_count": 112,
   "id": "b6544239-15c8-48b0-9e2e-7ac8cb764785",
   "metadata": {},
   "outputs": [],
   "source": [
    "coefficients = ee.Array([\n",
    "  [0.3037, 0.2793, 0.4743, 0.5585, 0.5082, 0.1863]\n",
    " \n",
    "])\n",
    "componentsImage = ee.Image(coefficients) \\\n",
    "  .matrixMultiply(arrayImage2D) \\\n",
    "  .arrayProject([0]) \\\n",
    "  .arrayFlatten(\n",
    "    [['label']])\n"
   ]
  },
  {
   "cell_type": "code",
   "execution_count": null,
   "id": "aa165d70-e5c3-488a-a0f5-4f31693f9ed4",
   "metadata": {},
   "outputs": [],
   "source": [
    "dw_16.getInfo()"
   ]
  },
  {
   "cell_type": "code",
   "execution_count": 66,
   "id": "0ce0a948-ee65-400e-bdb9-914ec8420c14",
   "metadata": {},
   "outputs": [],
   "source": [
    "dict1 =geemap.extract_pixel_values(dw_clip, region = ee_agra )"
   ]
  },
  {
   "cell_type": "code",
   "execution_count": null,
   "id": "a022b4c8-21d2-4fd0-8086-27374a11639e",
   "metadata": {},
   "outputs": [],
   "source": [
    "dict1.values().getInfo()"
   ]
  },
  {
   "cell_type": "code",
   "execution_count": 100,
   "id": "e57c041f-205f-4821-8a48-a89f785ac7d5",
   "metadata": {},
   "outputs": [],
   "source": [
    "# Add Earth Engine dataset\n",
    "# Define an Array of Tasseled Cap coefficients.\n",
    "coefficients = ee.Array([\n",
    "  [0.3037, 0.2793, 0.4743, 0.5585, 0.5082, 0.1863],\n",
    "  [-0.2848, -0.2435, -0.5436, 0.7243, 0.0840, -0.1800],\n",
    "  [0.1509, 0.1973, 0.3279, 0.3406, -0.7112, -0.4572],\n",
    "  [-0.8242, 0.0849, 0.4392, -0.0580, 0.2012, -0.2768],\n",
    "  [-0.3280, 0.0549, 0.1075, 0.1855, -0.4357, 0.8085],\n",
    "  [0.1084, -0.9022, 0.4120, 0.0573, -0.0251, 0.0238]\n",
    "])\n",
    "\n",
    "# Load a Landsat 5 image, select the bands of interest.\n",
    "image = ee.Image('LANDSAT/LT05/C01/T1_TOA/LT05_044034_20081011') \\\n",
    "  .select(['B1', 'B2', 'B3', 'B4', 'B5', 'B7'])\n",
    "\n",
    "# Make an Array Image, with a 1-D Array per pixel.\n",
    "arrayImage1D = image.toArray()\n",
    "\n",
    "# Make an Array Image with a 2-D Array per pixel, 6x1.\n",
    "arrayImage2D = arrayImage1D.toArray(1)\n",
    "\n",
    "# Do a matrix multiplication: 6x6 times 6x1.\n",
    "componentsImage = ee.Image(coefficients) \\\n",
    "  .matrixMultiply(arrayImage2D) \\\n",
    "  .arrayProject([0]) \\\n",
    "  .arrayFlatten(\n",
    "    [['brightness', 'greenness', 'wetness', 'fourth', 'fifth', 'sixth']])\n",
    "\n",
    "# Display the first three bands of the result and the input imagery.\n",
    "vizParams = {\n",
    "  'bands': ['brightness', 'greenness', 'wetness'],\n",
    "  'min': -0.1, 'max': [0.5, 0.1, 0.1]\n",
    "}\n",
    "Map.setCenter(-122.3, 37.562, 10)\n",
    "Map.addLayer(image, {'bands': ['B4', 'B3', 'B2'], 'min': 0, 'max': 0.5}, 'image')\n",
    "Map.addLayer(componentsImage, vizParams, 'components')"
   ]
  },
  {
   "cell_type": "code",
   "execution_count": 102,
   "id": "d425cd4a-441b-4860-b482-2a6d41944f79",
   "metadata": {},
   "outputs": [
    {
     "data": {
      "application/vnd.jupyter.widget-view+json": {
       "model_id": "",
       "version_major": 2,
       "version_minor": 0
      },
      "text/plain": [
       "Map(bottom=101820.0, center=[37.562, -122.3], controls=(WidgetControl(options=['position', 'transparent_bg'], …"
      ]
     },
     "metadata": {},
     "output_type": "display_data"
    }
   ],
   "source": [
    "Map.addLayerControl() # This line is not needed for ipyleaflet-based Map.\n",
    "Map"
   ]
  },
  {
   "cell_type": "code",
   "execution_count": null,
   "id": "e509d18c-36a3-45f8-8129-25fd8efcff1b",
   "metadata": {},
   "outputs": [],
   "source": [
    "dw_clip.getInfo()"
   ]
  },
  {
   "cell_type": "code",
   "execution_count": 86,
   "id": "9ab3d82e-423d-4f8b-92c9-c4ff6c0ace43",
   "metadata": {},
   "outputs": [],
   "source": [
    "sample = dw_clip.sampleRectangle()\n",
    "import numpy as np\n",
    "numpy_array = np.array(sample.get('id').getInfo())"
   ]
  },
  {
   "cell_type": "code",
   "execution_count": 87,
   "id": "f3822d2d-de80-4a17-b2da-075a03f7cd36",
   "metadata": {},
   "outputs": [
    {
     "data": {
      "text/plain": [
       "array(None, dtype=object)"
      ]
     },
     "execution_count": 87,
     "metadata": {},
     "output_type": "execute_result"
    }
   ],
   "source": [
    "numpy_array"
   ]
  },
  {
   "cell_type": "code",
   "execution_count": null,
   "id": "d95f4b8f-488b-4e14-8449-e1f83c232857",
   "metadata": {},
   "outputs": [],
   "source": [
    "dw_16.getInfo()"
   ]
  },
  {
   "cell_type": "code",
   "execution_count": 34,
   "id": "33bbcb69-500e-4ef6-b631-5459dfbc7f09",
   "metadata": {},
   "outputs": [
    {
     "data": {
      "text/plain": [
       "{'type': 'Image',\n",
       " 'bands': [{'id': 'array',\n",
       "   'data_type': {'type': 'PixelType', 'precision': 'int', 'min': 0, 'max': 1},\n",
       "   'dimensions': [4, 2],\n",
       "   'origin': [76, 26],\n",
       "   'crs': 'EPSG:4326',\n",
       "   'crs_transform': [1, 0, 0, 0, 1, 0]}]}"
      ]
     },
     "execution_count": 34,
     "metadata": {},
     "output_type": "execute_result"
    }
   ],
   "source": [
    "# dw_clip.toArray(1).getInfo()"
   ]
  }
 ],
 "metadata": {
  "kernelspec": {
   "display_name": "Python 3 (ipykernel)",
   "language": "python",
   "name": "python3"
  },
  "language_info": {
   "codemirror_mode": {
    "name": "ipython",
    "version": 3
   },
   "file_extension": ".py",
   "mimetype": "text/x-python",
   "name": "python",
   "nbconvert_exporter": "python",
   "pygments_lexer": "ipython3",
   "version": "3.9.13"
  }
 },
 "nbformat": 4,
 "nbformat_minor": 5
}
