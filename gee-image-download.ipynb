{
  "cells": [
    {
      "attachments": {},
      "cell_type": "markdown",
      "metadata": {},
      "source": [
        "## Satellite Image Download from Google Earth Engine using Python"
      ]
    },
    {
      "attachments": {},
      "cell_type": "markdown",
      "metadata": {},
      "source": [
        "### Import the packages"
      ]
    },
    {
      "cell_type": "code",
      "execution_count": 2,
      "metadata": {},
      "outputs": [],
      "source": [
        "# import earth engine package and authenticate\n",
        "import ee\n",
        "try:\n",
        "    ee.Initialize()\n",
        "except:\n",
        "    ee.Authenticate()\n",
        "    ee.Initialize()"
      ]
    },
    {
      "attachments": {},
      "cell_type": "markdown",
      "metadata": {},
      "source": [
        "### Construct the scene ID"
      ]
    },
    {
      "attachments": {},
      "cell_type": "markdown",
      "metadata": {},
      "source": [
        "For this paper we are using landsat 5 imagery. In this notebook we will downloading an image from 2009 using image id. We'll use the specifc scene ID to get the image. Since the gee api has download size limitations, we export our image to google drive and then download it for our use.\n",
        "\n",
        "The image id is constructed using following details;\n",
        "\n",
        "Collection, Processing Level, Landsat Path (Row, Col) and the date.\n",
        "\n",
        "The image id for the image we are downloading is constructed as follows:\n",
        "\n",
        "Landsat 5 collection - Level 2 \n",
        "\n",
        "https://developers.google.com/earth-engine/datasets/catalog/LANDSAT_LT05_C02_T1_L2\n",
        "\n",
        "Landsat Path Row, Col: 145044\n",
        "\n",
        "Date: 2010-04-28"
      ]
    },
    {
      "cell_type": "code",
      "execution_count": null,
      "metadata": {},
      "outputs": [],
      "source": [
        "image_id = 'LANDSAT/LT05/C02/T1_L2/LT05_145044_20100428'\n",
        "\n",
        "\n",
        "# Load the image\n",
        "l5_image = ee.Image(image_id)\n",
        "\n",
        "# Applies scaling factors - as specified in the Landsat 5 Surface Reflectance documentation\n",
        "\n",
        "def applyScaleFactors(image):\n",
        "    opticalBands = image.select('SR_B.').multiply(0.0000275).add(-0.2)\n",
        "    return image.addBands(opticalBands, None, True) \n",
        "\n",
        "\n",
        "# Apply scaling factors to the image collection\n",
        "l5_image = applyScaleFactors(l5_image)\n",
        "\n",
        "# print the metdata\n",
        "l5_image.getInfo()\n",
        "\n"
      ]
    },
    {
      "attachments": {},
      "cell_type": "markdown",
      "metadata": {},
      "source": [
        "### Select the bands"
      ]
    },
    {
      "attachments": {},
      "cell_type": "markdown",
      "metadata": {},
      "source": [
        "We select the bands before exporting the image. The bands we are using are: Band 1 (blue), Band 2 (green), Band 3 (red), Band 4 (nir), Band 5 (swir1), Band 7 (swir2). We won't be using Band 6 (thermal) since it's in a different resolution (100m) than the other bands (30m)."
      ]
    },
    {
      "cell_type": "code",
      "execution_count": 9,
      "metadata": {},
      "outputs": [
        {
          "data": {
            "text/plain": [
              "['SR_B1',\n",
              " 'SR_B2',\n",
              " 'SR_B3',\n",
              " 'SR_B4',\n",
              " 'SR_B5',\n",
              " 'SR_B7',\n",
              " 'SR_ATMOS_OPACITY',\n",
              " 'SR_CLOUD_QA',\n",
              " 'ST_B6',\n",
              " 'ST_ATRAN',\n",
              " 'ST_CDIST',\n",
              " 'ST_DRAD',\n",
              " 'ST_EMIS',\n",
              " 'ST_EMSD',\n",
              " 'ST_QA',\n",
              " 'ST_TRAD',\n",
              " 'ST_URAD',\n",
              " 'QA_PIXEL',\n",
              " 'QA_RADSAT']"
            ]
          },
          "execution_count": 9,
          "metadata": {},
          "output_type": "execute_result"
        }
      ],
      "source": [
        "#print th bands names\n",
        "l5_image.bandNames().getInfo()"
      ]
    },
    {
      "cell_type": "code",
      "execution_count": 10,
      "metadata": {},
      "outputs": [],
      "source": [
        "# select the bands\n",
        "l5_bands = ['SR_B1', 'SR_B2', 'SR_B3', 'SR_B4', 'SR_B5', 'SR_B7']\n",
        "l5_image = l5_image.select(l5_bands)"
      ]
    },
    {
      "attachments": {},
      "cell_type": "markdown",
      "metadata": {},
      "source": [
        "### Visualize the image\n",
        "\n"
      ]
    },
    {
      "cell_type": "code",
      "execution_count": 15,
      "metadata": {},
      "outputs": [
        {
          "data": {
            "application/vnd.jupyter.widget-view+json": {
              "model_id": "fe6e5579e3a64431baff356b114f7ee3",
              "version_major": 2,
              "version_minor": 0
            },
            "text/plain": [
              "Map(center=[23.10755097860265, 78.01956131163406], controls=(WidgetControl(options=['position', 'transparent_b…"
            ]
          },
          "metadata": {},
          "output_type": "display_data"
        }
      ],
      "source": [
        "# Create an interactive map\n",
        "\n",
        "import geemap\n",
        "\n",
        "# create a map with cetereda round l5_image  and zoom level 8\n",
        "Map = geemap.Map()\n",
        "Map.center_object(l5_image, 8)\n",
        "# Add the clipped Landsat image to the map\n",
        "Map.addLayer(l5_image, {'bands': ['SR_B4', 'SR_B3', 'SR_B2'], 'min': 0, 'max': .3}, 'Landsat Image')\n",
        "\n",
        "# Display the map\n",
        "Map\n",
        "\n"
      ]
    },
    {
      "attachments": {},
      "cell_type": "markdown",
      "metadata": {},
      "source": [
        "### Specify the parameters"
      ]
    },
    {
      "cell_type": "code",
      "execution_count": 16,
      "metadata": {},
      "outputs": [],
      "source": [
        "# export image specifying scale and region\n",
        "\n",
        "export_params = {\n",
        "    'image': l5_image,\n",
        "    'description': 'LT05_145044_20100428',\n",
        "    'folder': 'ee',\n",
        "    'region': l5_image.geometry(),\n",
        "    'fileFormat' : 'GeoTiff',\n",
        "    'fileNamePrefix': \"LT05_145044_20100428\",\n",
        "     'formatOptions': {\n",
        "      'cloudOptimized': 'true'\n",
        "    }\n",
        "}\n"
      ]
    },
    {
      "attachments": {},
      "cell_type": "markdown",
      "metadata": {},
      "source": [
        "## Task the download"
      ]
    },
    {
      "cell_type": "code",
      "execution_count": null,
      "metadata": {},
      "outputs": [],
      "source": [
        "\n",
        "task = ee.batch.Export.image.toDrive(**export_params)\n",
        "task.start()"
      ]
    }
  ],
  "metadata": {
    "kernelspec": {
      "display_name": "ee",
      "language": "python",
      "name": "python3"
    },
    "language_info": {
      "codemirror_mode": {
        "name": "ipython",
        "version": 3
      },
      "file_extension": ".py",
      "mimetype": "text/x-python",
      "name": "python",
      "nbconvert_exporter": "python",
      "pygments_lexer": "ipython3",
      "version": "3.9.13"
    },
    "orig_nbformat": 4
  },
  "nbformat": 4,
  "nbformat_minor": 2
}
