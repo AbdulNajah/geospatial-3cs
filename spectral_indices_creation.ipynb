{
 "cells": [
  {
   "attachments": {},
   "cell_type": "markdown",
   "metadata": {},
   "source": [
    "# Introduction\n",
    "This notebook contains code for calculating and visualizing various vegetation indices from a satellite image using `rasterio`. The indices calculated include NDVI, NDMI, NBR, NDWI, BAI, BAIML, BAIMS, MiRBi, and GEMI. The calculated indices are then saved as separate GeoTIFF files. Additionally, some of the indices are visualized using `matplotlib` and saved as JPEG images.\n",
    "\n",
    "## Importing Libraries\n",
    "First, we import the required libraries: `rasterio`, `numpy`, `os`, and `matplotlib.pyplot`."
   ]
  },
  {
   "cell_type": "code",
   "execution_count": 1,
   "metadata": {},
   "outputs": [],
   "source": [
    "\n",
    "import rasterio as rio\n",
    "import numpy as np\n",
    "import os\n",
    "import matplotlib.pyplot as plt\n",
    "from rasterio.plot import show, show_hist\n"
   ]
  },
  {
   "attachments": {},
   "cell_type": "markdown",
   "metadata": {},
   "source": [
    "### Loading Bands\n",
    "We load the bands from the input image file and store them in a dictionary called bands_dict. Each band is stored as a NumPy array.\n",
    "- Input file is a image stack that created in ENVI\n",
    "- The input mask is also created in ENVI\n",
    "- I will soon update this with a full workflow without ENVI."
   ]
  },
  {
   "cell_type": "code",
   "execution_count": null,
   "metadata": {},
   "outputs": [],
   "source": [
    "#set directory\n",
    "os.chdir('/Users/najah/work/internships/meghna/LT05_L1TP_145044_20100428_20161016_01_T1')\n",
    "image_file = './145044_masked_stacked_wgs84.tif'\n",
    "bands_dict = {}\n",
    "\n",
    "with rio.open(image_file) as src:\n",
    "    for bands in range(1, 7):\n",
    "        bands_dict[str('b') + str(bands)] = src.read(bands)\n",
    "\n",
    "# Renaming b6 to b7 since there's no thermal band\n",
    "bands_dict['b7'] = bands_dict['b6']\n",
    "del bands_dict['b6']\n"
   ]
  },
  {
   "attachments": {},
   "cell_type": "markdown",
   "metadata": {},
   "source": [
    "### Reading Mask File\n",
    "To apply a mask to the generated indices, we'll read a mask file using rasterio and store it in the bands_dict dictionary."
   ]
  },
  {
   "cell_type": "code",
   "execution_count": null,
   "metadata": {},
   "outputs": [],
   "source": [
    "mask_file = rio.open('./145044_20100428_mask_all.tif')\n",
    "mask = mask_file.read(1)\n",
    "bands_dict['mask'] = mask\n"
   ]
  },
  {
   "attachments": {},
   "cell_type": "markdown",
   "metadata": {},
   "source": [
    "\n",
    "### Define the indices and their corresponding bands\n",
    "\n"
   ]
  },
  {
   "cell_type": "code",
   "execution_count": null,
   "metadata": {},
   "outputs": [],
   "source": [
    "\n",
    "indices = {\n",
    "    'ndvi': ('b4', 'b3'),\n",
    "    'ndmi': ('b4', 'b5'),\n",
    "    'nbr': ('b4', 'b7'),\n",
    "    'ndwi': ('b2', 'b4'),\n",
    "    'bai': ('b3', 'b4'),\n",
    "    'baiml': ('b4', 'b7'),\n",
    "    'baims': ('b4', 'b5'),\n",
    "    'mirbi': ('b7', 'b5'),\n",
    "    'nbrt': ('b4', 'b7', 'b6'),\n",
    "    'gemi': ('b4', 'b3')\n",
    "}\n"
   ]
  },
  {
   "attachments": {},
   "cell_type": "markdown",
   "metadata": {},
   "source": [
    "\n",
    "### Calculate the indices\n",
    "\n"
   ]
  },
  {
   "cell_type": "code",
   "execution_count": null,
   "metadata": {},
   "outputs": [],
   "source": [
    "\n",
    "for index, bands in indices.items():\n",
    "    if index == 'bai':\n",
    "        bands_dict[index] = 1 / ((0.1 - bands_dict[bands[0]].astype(float)) ** 2 + (0.06 - bands_dict[bands[1]].astype(float)) ** 2)\n",
    "    elif index == 'baiml':\n",
    "        bands_dict[index] = 1 / ((bands_dict[bands[0]] - (.5 * bands_dict[bands[0]])) ** 2 + (bands_dict[bands[1]] - (.2 * bands_dict[bands[1]])) ** 2)\n",
    "    elif index == 'baims':\n",
    "        bands_dict[index] = 1 / ((bands_dict[bands[0]] - (.5 * bands_dict[bands[0]])) ** 2 + (bands_dict[bands[1]] - (.2 * bands_dict[bands[1]])) ** 2)\n",
    "    elif index == 'mirbi':\n",
    "        bands_dict[index] = (10 * bands_dict[bands[0]]) - ((9.8 * bands_dict[bands[1]]) + 2)\n",
    "    elif index == 'nbrt':\n",
    "        bands_dict[index] = (bands_dict[bands[0]] - bands_dict[bands[1]] * (bands_dict[bands[2]] / 1000)) / (bands_dict[bands[0]] + bands_dict[bands[1]] * (bands_dict[bands[2]] / 1000))\n",
    "    elif index == 'gemi':\n",
    "        eta = (2 * (bands_dict[bands[0]] ** 2 - bands_dict[bands[1]] ** 2) + (1.5 * bands_dict[bands[0]]) + (.5 * bands_dict[bands[1]])) / (bands_dict[bands[0]] + bands_dict[bands[1]] + .5)\n",
    "        bands_dict[index] = eta * (1 - .25 * eta) - ((bands_dict[bands[1]] - .125) / (1 - bands_dict[bands[1]]))\n",
    "    else:\n",
    "        bands_dict[index] = (bands_dict[bands[0]].astype(float) - bands_dict[bands[1]].astype(float)) / (bands_dict[bands[0]] + bands_dict[bands[1]])\n",
    "\n",
    "    bands_dict[index][bands_dict['mask'] == 0] = np.nan\n",
    "\n",
    "    print(index + \" created successfully\")\n"
   ]
  },
  {
   "attachments": {},
   "cell_type": "markdown",
   "metadata": {},
   "source": [
    "\n",
    "### Save indices as separate GeoTIFF files"
   ]
  },
  {
   "cell_type": "code",
   "execution_count": null,
   "metadata": {},
   "outputs": [],
   "source": [
    "\n",
    "\n",
    "output_dir = './indices1/'\n",
    "os.makedirs(output_dir, exist_ok=True)\n",
    "\n",
    "for index, array in bands_dict.items():\n",
    "    if index != 'mask':\n",
    "        output_file = os.path.join(output_dir, index + '.tif')\n",
    "        with rio.open(output_file, 'w', **src.profile) as dst:\n",
    "            dst.write(array, 1)\n",
    "\n"
   ]
  },
  {
   "attachments": {},
   "cell_type": "markdown",
   "metadata": {},
   "source": [
    "### Visualize and save some indices as JPEG images"
   ]
  },
  {
   "cell_type": "code",
   "execution_count": null,
   "metadata": {},
   "outputs": [],
   "source": [
    "\n",
    "\n",
    "output_images_dir = './index_images/'\n",
    "os.makedirs(output_images_dir, exist_ok=True)\n",
    "\n",
    "for index in ['ndvi', 'ndmi', 'nbr']:\n",
    "    plt.figure(figsize=(10, 10))\n",
    "    plt.imshow(bands_dict[index], cmap='RdYlGn')\n",
    "    plt.colorbar()\n",
    "    plt.title(index.upper())\n",
    "    plt.axis('off')\n",
    "    output_image_file = os.path.join(output_images_dir, index + '.jpg')\n",
    "    plt.savefig(output_image_file, bbox_inches='tight', dpi=300)\n",
    "    plt.close()\n",
    "\n",
    "print(\"All indices calculated and saved successfully!\")"
   ]
  }
 ],
 "metadata": {
  "kernelspec": {
   "display_name": "ee",
   "language": "python",
   "name": "python3"
  },
  "language_info": {
   "codemirror_mode": {
    "name": "ipython",
    "version": 3
   },
   "file_extension": ".py",
   "mimetype": "text/x-python",
   "name": "python",
   "nbconvert_exporter": "python",
   "pygments_lexer": "ipython3",
   "version": "3.9.13"
  },
  "orig_nbformat": 4
 },
 "nbformat": 4,
 "nbformat_minor": 2
}
